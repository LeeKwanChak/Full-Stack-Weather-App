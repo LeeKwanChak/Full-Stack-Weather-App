{
 "cells": [
  {
   "cell_type": "code",
   "execution_count": 5,
   "id": "0a26b4ef",
   "metadata": {},
   "outputs": [
    {
     "name": "stdout",
     "output_type": "stream",
     "text": [
      "{'coord': {'lon': -0.1257, 'lat': 51.5085}, 'weather': [{'id': 803, 'main': 'Clouds', 'description': 'broken clouds', 'icon': '04d'}], 'base': 'stations', 'main': {'temp': 14.2, 'feels_like': 13.87, 'temp_min': 13.06, 'temp_max': 14.86, 'pressure': 1012, 'humidity': 84, 'sea_level': 1012, 'grnd_level': 1009}, 'visibility': 10000, 'wind': {'speed': 5.14, 'deg': 240}, 'clouds': {'all': 75}, 'dt': 1748325085, 'sys': {'type': 2, 'id': 2075535, 'country': 'GB', 'sunrise': 1748318016, 'sunset': 1748376125}, 'timezone': 3600, 'id': 2643743, 'name': 'London', 'cod': 200}\n"
     ]
    }
   ],
   "source": [
    "import requests\n",
    "import os\n",
    "API_KEY = os.getenv('API_KEY')\n",
    "city = 'London'\n",
    "url = f'http://api.openweathermap.org/data/2.5/weather?q={city}&appid={API_KEY}&units=metric'\n",
    "\n",
    "\n",
    "res = requests.get(url)\n",
    "current_data = res.json()\n",
    "print(current_data)\n",
    "\n"
   ]
  },
  {
   "cell_type": "code",
   "execution_count": 15,
   "id": "c7319d8e",
   "metadata": {},
   "outputs": [
    {
     "name": "stdout",
     "output_type": "stream",
     "text": [
      "{'lat': 22.4596112, 'lon': 114.0022375, 'name': 'Tin Shui Wai', 'country': 'CN'}\n"
     ]
    }
   ],
   "source": [
    "import requests\n",
    "import os\n",
    "API_KEY = os.getenv('API_KEY')\n",
    "city = 'Tin Shui Wai'\n",
    "url = f'http://api.openweathermap.org/geo/1.0/direct?q={city}&limit=1&appid={API_KEY}'\n",
    "\n",
    "res = requests.get(url)\n",
    "data = res.json()\n",
    "\n",
    "data = {\n",
    "            'lat': data[0]['lat'],\n",
    "            'lon': data[0]['lon'],\n",
    "            'name': data[0]['name'],\n",
    "            'country': data[0]['country']\n",
    "        }\n",
    "\n",
    "print(data)\n"
   ]
  },
  {
   "cell_type": "code",
   "execution_count": 16,
   "id": "f0e4b587",
   "metadata": {},
   "outputs": [
    {
     "name": "stdout",
     "output_type": "stream",
     "text": [
      "{'cod': 401, 'message': 'Please note that using One Call 3.0 requires a separate subscription to the One Call by Call plan. Learn more here https://openweathermap.org/price. If you have a valid subscription to the One Call by Call plan, but still receive this error, then please see https://openweathermap.org/faq#error401 for more info.'}\n"
     ]
    }
   ],
   "source": [
    "lat = data['lat']\n",
    "lon = data['lon']\n",
    "\n",
    "url = f'https://api.openweathermap.org/data/3.0/onecall?lat={lat}&lon={lon}&exclude=minutely,daily,alerts&appid={API_KEY}&units=metric'\n",
    "\n",
    "res = requests.get(url)\n",
    "data = res.json()\n",
    "\n",
    "print(data)"
   ]
  },
  {
   "cell_type": "code",
   "execution_count": 17,
   "id": "0c5828aa",
   "metadata": {},
   "outputs": [
    {
     "name": "stdout",
     "output_type": "stream",
     "text": [
      "{'cod': '200', 'message': 0, 'cnt': 40, 'list': [{'dt': 1748347200, 'main': {'temp': 26.72, 'feels_like': 28.12, 'temp_min': 26.72, 'temp_max': 26.84, 'pressure': 1012, 'sea_level': 1012, 'grnd_level': 1007, 'humidity': 66, 'temp_kf': -0.12}, 'weather': [{'id': 802, 'main': 'Clouds', 'description': 'scattered clouds', 'icon': '03n'}], 'clouds': {'all': 40}, 'wind': {'speed': 4.87, 'deg': 97, 'gust': 6.89}, 'visibility': 10000, 'pop': 0, 'sys': {'pod': 'n'}, 'dt_txt': '2025-05-27 12:00:00'}, {'dt': 1748358000, 'main': {'temp': 26.45, 'feels_like': 26.45, 'temp_min': 25.9, 'temp_max': 26.45, 'pressure': 1012, 'sea_level': 1012, 'grnd_level': 1008, 'humidity': 70, 'temp_kf': 0.55}, 'weather': [{'id': 803, 'main': 'Clouds', 'description': 'broken clouds', 'icon': '04n'}], 'clouds': {'all': 60}, 'wind': {'speed': 4.67, 'deg': 92, 'gust': 7.31}, 'visibility': 10000, 'pop': 0, 'sys': {'pod': 'n'}, 'dt_txt': '2025-05-27 15:00:00'}, {'dt': 1748368800, 'main': {'temp': 26.05, 'feels_like': 26.05, 'temp_min': 25.71, 'temp_max': 26.05, 'pressure': 1011, 'sea_level': 1011, 'grnd_level': 1005, 'humidity': 75, 'temp_kf': 0.34}, 'weather': [{'id': 803, 'main': 'Clouds', 'description': 'broken clouds', 'icon': '04n'}], 'clouds': {'all': 80}, 'wind': {'speed': 5.83, 'deg': 103, 'gust': 9.64}, 'visibility': 10000, 'pop': 0, 'sys': {'pod': 'n'}, 'dt_txt': '2025-05-27 18:00:00'}, {'dt': 1748379600, 'main': {'temp': 25.92, 'feels_like': 26.63, 'temp_min': 25.92, 'temp_max': 25.92, 'pressure': 1009, 'sea_level': 1009, 'grnd_level': 1004, 'humidity': 79, 'temp_kf': 0}, 'weather': [{'id': 804, 'main': 'Clouds', 'description': 'overcast clouds', 'icon': '04n'}], 'clouds': {'all': 100}, 'wind': {'speed': 4.64, 'deg': 90, 'gust': 8.76}, 'visibility': 10000, 'pop': 0, 'sys': {'pod': 'n'}, 'dt_txt': '2025-05-27 21:00:00'}, {'dt': 1748390400, 'main': {'temp': 27.1, 'feels_like': 29.96, 'temp_min': 27.1, 'temp_max': 27.1, 'pressure': 1010, 'sea_level': 1010, 'grnd_level': 1005, 'humidity': 80, 'temp_kf': 0}, 'weather': [{'id': 804, 'main': 'Clouds', 'description': 'overcast clouds', 'icon': '04d'}], 'clouds': {'all': 100}, 'wind': {'speed': 5.37, 'deg': 94, 'gust': 9.6}, 'visibility': 10000, 'pop': 0, 'sys': {'pod': 'd'}, 'dt_txt': '2025-05-28 00:00:00'}, {'dt': 1748401200, 'main': {'temp': 26.67, 'feels_like': 29.25, 'temp_min': 26.67, 'temp_max': 26.67, 'pressure': 1009, 'sea_level': 1009, 'grnd_level': 1004, 'humidity': 83, 'temp_kf': 0}, 'weather': [{'id': 500, 'main': 'Rain', 'description': 'light rain', 'icon': '10d'}], 'clouds': {'all': 99}, 'wind': {'speed': 4.79, 'deg': 104, 'gust': 9.38}, 'visibility': 10000, 'pop': 0.59, 'rain': {'3h': 0.32}, 'sys': {'pod': 'd'}, 'dt_txt': '2025-05-28 03:00:00'}, {'dt': 1748412000, 'main': {'temp': 25.75, 'feels_like': 26.6, 'temp_min': 25.75, 'temp_max': 25.75, 'pressure': 1008, 'sea_level': 1008, 'grnd_level': 1003, 'humidity': 85, 'temp_kf': 0}, 'weather': [{'id': 500, 'main': 'Rain', 'description': 'light rain', 'icon': '10d'}], 'clouds': {'all': 99}, 'wind': {'speed': 4.71, 'deg': 92, 'gust': 9.22}, 'visibility': 10000, 'pop': 1, 'rain': {'3h': 1.05}, 'sys': {'pod': 'd'}, 'dt_txt': '2025-05-28 06:00:00'}, {'dt': 1748422800, 'main': {'temp': 25.01, 'feels_like': 25.94, 'temp_min': 25.01, 'temp_max': 25.01, 'pressure': 1006, 'sea_level': 1006, 'grnd_level': 1001, 'humidity': 91, 'temp_kf': 0}, 'weather': [{'id': 500, 'main': 'Rain', 'description': 'light rain', 'icon': '10d'}], 'clouds': {'all': 100}, 'wind': {'speed': 3.6, 'deg': 91, 'gust': 4.81}, 'visibility': 6877, 'pop': 1, 'rain': {'3h': 2.36}, 'sys': {'pod': 'd'}, 'dt_txt': '2025-05-28 09:00:00'}, {'dt': 1748433600, 'main': {'temp': 25.53, 'feels_like': 26.51, 'temp_min': 25.53, 'temp_max': 25.53, 'pressure': 1008, 'sea_level': 1008, 'grnd_level': 1003, 'humidity': 91, 'temp_kf': 0}, 'weather': [{'id': 500, 'main': 'Rain', 'description': 'light rain', 'icon': '10n'}], 'clouds': {'all': 100}, 'wind': {'speed': 2.69, 'deg': 92, 'gust': 3.36}, 'visibility': 10000, 'pop': 1, 'rain': {'3h': 1.51}, 'sys': {'pod': 'n'}, 'dt_txt': '2025-05-28 12:00:00'}, {'dt': 1748444400, 'main': {'temp': 25.78, 'feels_like': 26.74, 'temp_min': 25.78, 'temp_max': 25.78, 'pressure': 1008, 'sea_level': 1008, 'grnd_level': 1003, 'humidity': 89, 'temp_kf': 0}, 'weather': [{'id': 500, 'main': 'Rain', 'description': 'light rain', 'icon': '10n'}], 'clouds': {'all': 100}, 'wind': {'speed': 2.42, 'deg': 106, 'gust': 2.83}, 'visibility': 10000, 'pop': 0.35, 'rain': {'3h': 0.23}, 'sys': {'pod': 'n'}, 'dt_txt': '2025-05-28 15:00:00'}, {'dt': 1748455200, 'main': {'temp': 25.09, 'feels_like': 26.08, 'temp_min': 25.09, 'temp_max': 25.09, 'pressure': 1007, 'sea_level': 1007, 'grnd_level': 1002, 'humidity': 93, 'temp_kf': 0}, 'weather': [{'id': 501, 'main': 'Rain', 'description': 'moderate rain', 'icon': '10n'}], 'clouds': {'all': 100}, 'wind': {'speed': 0.65, 'deg': 219, 'gust': 0.84}, 'visibility': 4718, 'pop': 1, 'rain': {'3h': 4.1}, 'sys': {'pod': 'n'}, 'dt_txt': '2025-05-28 18:00:00'}, {'dt': 1748466000, 'main': {'temp': 25.12, 'feels_like': 26.09, 'temp_min': 25.12, 'temp_max': 25.12, 'pressure': 1007, 'sea_level': 1007, 'grnd_level': 1002, 'humidity': 92, 'temp_kf': 0}, 'weather': [{'id': 500, 'main': 'Rain', 'description': 'light rain', 'icon': '10n'}], 'clouds': {'all': 100}, 'wind': {'speed': 1.81, 'deg': 358, 'gust': 2.14}, 'visibility': 10000, 'pop': 1, 'rain': {'3h': 2.45}, 'sys': {'pod': 'n'}, 'dt_txt': '2025-05-28 21:00:00'}, {'dt': 1748476800, 'main': {'temp': 25.97, 'feels_like': 25.97, 'temp_min': 25.97, 'temp_max': 25.97, 'pressure': 1008, 'sea_level': 1008, 'grnd_level': 1003, 'humidity': 85, 'temp_kf': 0}, 'weather': [{'id': 500, 'main': 'Rain', 'description': 'light rain', 'icon': '10d'}], 'clouds': {'all': 100}, 'wind': {'speed': 3.58, 'deg': 359, 'gust': 4.1}, 'visibility': 10000, 'pop': 1, 'rain': {'3h': 0.85}, 'sys': {'pod': 'd'}, 'dt_txt': '2025-05-29 00:00:00'}, {'dt': 1748487600, 'main': {'temp': 26.98, 'feels_like': 29.42, 'temp_min': 26.98, 'temp_max': 26.98, 'pressure': 1009, 'sea_level': 1009, 'grnd_level': 1004, 'humidity': 77, 'temp_kf': 0}, 'weather': [{'id': 500, 'main': 'Rain', 'description': 'light rain', 'icon': '10d'}], 'clouds': {'all': 100}, 'wind': {'speed': 4.35, 'deg': 22, 'gust': 4.52}, 'visibility': 10000, 'pop': 0.74, 'rain': {'3h': 0.57}, 'sys': {'pod': 'd'}, 'dt_txt': '2025-05-29 03:00:00'}, {'dt': 1748498400, 'main': {'temp': 26.9, 'feels_like': 28.85, 'temp_min': 26.9, 'temp_max': 26.9, 'pressure': 1008, 'sea_level': 1008, 'grnd_level': 1003, 'humidity': 72, 'temp_kf': 0}, 'weather': [{'id': 500, 'main': 'Rain', 'description': 'light rain', 'icon': '10d'}], 'clouds': {'all': 100}, 'wind': {'speed': 5.1, 'deg': 24, 'gust': 4.76}, 'visibility': 10000, 'pop': 0.63, 'rain': {'3h': 0.11}, 'sys': {'pod': 'd'}, 'dt_txt': '2025-05-29 06:00:00'}, {'dt': 1748509200, 'main': {'temp': 24.06, 'feels_like': 24.58, 'temp_min': 24.06, 'temp_max': 24.06, 'pressure': 1008, 'sea_level': 1008, 'grnd_level': 1003, 'humidity': 79, 'temp_kf': 0}, 'weather': [{'id': 500, 'main': 'Rain', 'description': 'light rain', 'icon': '10d'}], 'clouds': {'all': 100}, 'wind': {'speed': 4.83, 'deg': 38, 'gust': 5.44}, 'visibility': 10000, 'pop': 0.74, 'rain': {'3h': 0.34}, 'sys': {'pod': 'd'}, 'dt_txt': '2025-05-29 09:00:00'}, {'dt': 1748520000, 'main': {'temp': 22.63, 'feels_like': 23.25, 'temp_min': 22.63, 'temp_max': 22.63, 'pressure': 1010, 'sea_level': 1010, 'grnd_level': 1005, 'humidity': 88, 'temp_kf': 0}, 'weather': [{'id': 500, 'main': 'Rain', 'description': 'light rain', 'icon': '10n'}], 'clouds': {'all': 100}, 'wind': {'speed': 3.33, 'deg': 44, 'gust': 4.18}, 'visibility': 10000, 'pop': 1, 'rain': {'3h': 2.1}, 'sys': {'pod': 'n'}, 'dt_txt': '2025-05-29 12:00:00'}, {'dt': 1748530800, 'main': {'temp': 22.97, 'feels_like': 23.59, 'temp_min': 22.97, 'temp_max': 22.97, 'pressure': 1010, 'sea_level': 1010, 'grnd_level': 1005, 'humidity': 87, 'temp_kf': 0}, 'weather': [{'id': 500, 'main': 'Rain', 'description': 'light rain', 'icon': '10n'}], 'clouds': {'all': 100}, 'wind': {'speed': 3.11, 'deg': 62, 'gust': 4.26}, 'visibility': 10000, 'pop': 0.22, 'rain': {'3h': 0.17}, 'sys': {'pod': 'n'}, 'dt_txt': '2025-05-29 15:00:00'}, {'dt': 1748541600, 'main': {'temp': 23.23, 'feels_like': 23.91, 'temp_min': 23.23, 'temp_max': 23.23, 'pressure': 1009, 'sea_level': 1009, 'grnd_level': 1004, 'humidity': 88, 'temp_kf': 0}, 'weather': [{'id': 804, 'main': 'Clouds', 'description': 'overcast clouds', 'icon': '04n'}], 'clouds': {'all': 100}, 'wind': {'speed': 3.29, 'deg': 59, 'gust': 4.47}, 'visibility': 10000, 'pop': 0, 'sys': {'pod': 'n'}, 'dt_txt': '2025-05-29 18:00:00'}, {'dt': 1748552400, 'main': {'temp': 23.42, 'feels_like': 24.14, 'temp_min': 23.42, 'temp_max': 23.42, 'pressure': 1008, 'sea_level': 1008, 'grnd_level': 1003, 'humidity': 89, 'temp_kf': 0}, 'weather': [{'id': 804, 'main': 'Clouds', 'description': 'overcast clouds', 'icon': '04n'}], 'clouds': {'all': 99}, 'wind': {'speed': 3.56, 'deg': 56, 'gust': 5.71}, 'visibility': 10000, 'pop': 0, 'sys': {'pod': 'n'}, 'dt_txt': '2025-05-29 21:00:00'}, {'dt': 1748563200, 'main': {'temp': 24.28, 'feels_like': 24.88, 'temp_min': 24.28, 'temp_max': 24.28, 'pressure': 1010, 'sea_level': 1010, 'grnd_level': 1005, 'humidity': 81, 'temp_kf': 0}, 'weather': [{'id': 804, 'main': 'Clouds', 'description': 'overcast clouds', 'icon': '04d'}], 'clouds': {'all': 93}, 'wind': {'speed': 4.55, 'deg': 75, 'gust': 7.94}, 'visibility': 10000, 'pop': 0, 'sys': {'pod': 'd'}, 'dt_txt': '2025-05-30 00:00:00'}, {'dt': 1748574000, 'main': {'temp': 26.82, 'feels_like': 28.63, 'temp_min': 26.82, 'temp_max': 26.82, 'pressure': 1009, 'sea_level': 1009, 'grnd_level': 1004, 'humidity': 71, 'temp_kf': 0}, 'weather': [{'id': 803, 'main': 'Clouds', 'description': 'broken clouds', 'icon': '04d'}], 'clouds': {'all': 70}, 'wind': {'speed': 6.16, 'deg': 93, 'gust': 8.53}, 'visibility': 10000, 'pop': 0, 'sys': {'pod': 'd'}, 'dt_txt': '2025-05-30 03:00:00'}, {'dt': 1748584800, 'main': {'temp': 26.05, 'feels_like': 26.05, 'temp_min': 26.05, 'temp_max': 26.05, 'pressure': 1008, 'sea_level': 1008, 'grnd_level': 1003, 'humidity': 74, 'temp_kf': 0}, 'weather': [{'id': 804, 'main': 'Clouds', 'description': 'overcast clouds', 'icon': '04d'}], 'clouds': {'all': 85}, 'wind': {'speed': 7.12, 'deg': 91, 'gust': 9.63}, 'visibility': 10000, 'pop': 0, 'sys': {'pod': 'd'}, 'dt_txt': '2025-05-30 06:00:00'}, {'dt': 1748595600, 'main': {'temp': 25.92, 'feels_like': 26.55, 'temp_min': 25.92, 'temp_max': 25.92, 'pressure': 1007, 'sea_level': 1007, 'grnd_level': 1002, 'humidity': 76, 'temp_kf': 0}, 'weather': [{'id': 804, 'main': 'Clouds', 'description': 'overcast clouds', 'icon': '04d'}], 'clouds': {'all': 100}, 'wind': {'speed': 7.74, 'deg': 92, 'gust': 10.65}, 'visibility': 10000, 'pop': 0, 'sys': {'pod': 'd'}, 'dt_txt': '2025-05-30 09:00:00'}, {'dt': 1748606400, 'main': {'temp': 25.3, 'feels_like': 25.92, 'temp_min': 25.3, 'temp_max': 25.3, 'pressure': 1008, 'sea_level': 1008, 'grnd_level': 1003, 'humidity': 78, 'temp_kf': 0}, 'weather': [{'id': 804, 'main': 'Clouds', 'description': 'overcast clouds', 'icon': '04n'}], 'clouds': {'all': 100}, 'wind': {'speed': 6.94, 'deg': 96, 'gust': 11.19}, 'visibility': 10000, 'pop': 0, 'sys': {'pod': 'n'}, 'dt_txt': '2025-05-30 12:00:00'}, {'dt': 1748617200, 'main': {'temp': 24.96, 'feels_like': 25.57, 'temp_min': 24.96, 'temp_max': 24.96, 'pressure': 1009, 'sea_level': 1009, 'grnd_level': 1004, 'humidity': 79, 'temp_kf': 0}, 'weather': [{'id': 500, 'main': 'Rain', 'description': 'light rain', 'icon': '10n'}], 'clouds': {'all': 100}, 'wind': {'speed': 6.45, 'deg': 90, 'gust': 11.1}, 'visibility': 10000, 'pop': 0.26, 'rain': {'3h': 0.1}, 'sys': {'pod': 'n'}, 'dt_txt': '2025-05-30 15:00:00'}, {'dt': 1748628000, 'main': {'temp': 24.87, 'feels_like': 25.45, 'temp_min': 24.87, 'temp_max': 24.87, 'pressure': 1007, 'sea_level': 1007, 'grnd_level': 1002, 'humidity': 78, 'temp_kf': 0}, 'weather': [{'id': 804, 'main': 'Clouds', 'description': 'overcast clouds', 'icon': '04n'}], 'clouds': {'all': 100}, 'wind': {'speed': 5.3, 'deg': 85, 'gust': 9.68}, 'visibility': 10000, 'pop': 0, 'sys': {'pod': 'n'}, 'dt_txt': '2025-05-30 18:00:00'}, {'dt': 1748638800, 'main': {'temp': 24.54, 'feels_like': 25.11, 'temp_min': 24.54, 'temp_max': 24.54, 'pressure': 1006, 'sea_level': 1006, 'grnd_level': 1001, 'humidity': 79, 'temp_kf': 0}, 'weather': [{'id': 804, 'main': 'Clouds', 'description': 'overcast clouds', 'icon': '04n'}], 'clouds': {'all': 100}, 'wind': {'speed': 4.73, 'deg': 71, 'gust': 8.41}, 'visibility': 10000, 'pop': 0, 'sys': {'pod': 'n'}, 'dt_txt': '2025-05-30 21:00:00'}, {'dt': 1748649600, 'main': {'temp': 24.92, 'feels_like': 25.45, 'temp_min': 24.92, 'temp_max': 24.92, 'pressure': 1006, 'sea_level': 1006, 'grnd_level': 1001, 'humidity': 76, 'temp_kf': 0}, 'weather': [{'id': 804, 'main': 'Clouds', 'description': 'overcast clouds', 'icon': '04d'}], 'clouds': {'all': 100}, 'wind': {'speed': 4.91, 'deg': 79, 'gust': 7.06}, 'visibility': 10000, 'pop': 0, 'sys': {'pod': 'd'}, 'dt_txt': '2025-05-31 00:00:00'}, {'dt': 1748660400, 'main': {'temp': 27.22, 'feels_like': 29.23, 'temp_min': 27.22, 'temp_max': 27.22, 'pressure': 1006, 'sea_level': 1006, 'grnd_level': 1001, 'humidity': 70, 'temp_kf': 0}, 'weather': [{'id': 804, 'main': 'Clouds', 'description': 'overcast clouds', 'icon': '04d'}], 'clouds': {'all': 100}, 'wind': {'speed': 4.91, 'deg': 96, 'gust': 7.12}, 'visibility': 10000, 'pop': 0, 'sys': {'pod': 'd'}, 'dt_txt': '2025-05-31 03:00:00'}, {'dt': 1748671200, 'main': {'temp': 27.26, 'feels_like': 29.6, 'temp_min': 27.26, 'temp_max': 27.26, 'pressure': 1004, 'sea_level': 1004, 'grnd_level': 999, 'humidity': 73, 'temp_kf': 0}, 'weather': [{'id': 804, 'main': 'Clouds', 'description': 'overcast clouds', 'icon': '04d'}], 'clouds': {'all': 100}, 'wind': {'speed': 5.91, 'deg': 93, 'gust': 8.85}, 'visibility': 10000, 'pop': 0, 'sys': {'pod': 'd'}, 'dt_txt': '2025-05-31 06:00:00'}, {'dt': 1748682000, 'main': {'temp': 26.53, 'feels_like': 26.53, 'temp_min': 26.53, 'temp_max': 26.53, 'pressure': 1003, 'sea_level': 1003, 'grnd_level': 998, 'humidity': 76, 'temp_kf': 0}, 'weather': [{'id': 804, 'main': 'Clouds', 'description': 'overcast clouds', 'icon': '04d'}], 'clouds': {'all': 100}, 'wind': {'speed': 6.19, 'deg': 87, 'gust': 8.92}, 'visibility': 10000, 'pop': 0, 'sys': {'pod': 'd'}, 'dt_txt': '2025-05-31 09:00:00'}, {'dt': 1748692800, 'main': {'temp': 25.71, 'feels_like': 26.45, 'temp_min': 25.71, 'temp_max': 25.71, 'pressure': 1004, 'sea_level': 1004, 'grnd_level': 999, 'humidity': 81, 'temp_kf': 0}, 'weather': [{'id': 804, 'main': 'Clouds', 'description': 'overcast clouds', 'icon': '04n'}], 'clouds': {'all': 100}, 'wind': {'speed': 5.42, 'deg': 80, 'gust': 9.67}, 'visibility': 10000, 'pop': 0, 'sys': {'pod': 'n'}, 'dt_txt': '2025-05-31 12:00:00'}, {'dt': 1748703600, 'main': {'temp': 25.24, 'feels_like': 25.99, 'temp_min': 25.24, 'temp_max': 25.24, 'pressure': 1005, 'sea_level': 1005, 'grnd_level': 1000, 'humidity': 83, 'temp_kf': 0}, 'weather': [{'id': 804, 'main': 'Clouds', 'description': 'overcast clouds', 'icon': '04n'}], 'clouds': {'all': 100}, 'wind': {'speed': 3.76, 'deg': 81, 'gust': 5.35}, 'visibility': 10000, 'pop': 0, 'sys': {'pod': 'n'}, 'dt_txt': '2025-05-31 15:00:00'}, {'dt': 1748714400, 'main': {'temp': 25.32, 'feels_like': 26.1, 'temp_min': 25.32, 'temp_max': 25.32, 'pressure': 1003, 'sea_level': 1003, 'grnd_level': 998, 'humidity': 84, 'temp_kf': 0}, 'weather': [{'id': 804, 'main': 'Clouds', 'description': 'overcast clouds', 'icon': '04n'}], 'clouds': {'all': 100}, 'wind': {'speed': 3.29, 'deg': 68, 'gust': 4.48}, 'visibility': 10000, 'pop': 0, 'sys': {'pod': 'n'}, 'dt_txt': '2025-05-31 18:00:00'}, {'dt': 1748725200, 'main': {'temp': 25.06, 'feels_like': 25.81, 'temp_min': 25.06, 'temp_max': 25.06, 'pressure': 1002, 'sea_level': 1002, 'grnd_level': 997, 'humidity': 84, 'temp_kf': 0}, 'weather': [{'id': 804, 'main': 'Clouds', 'description': 'overcast clouds', 'icon': '04n'}], 'clouds': {'all': 95}, 'wind': {'speed': 2.43, 'deg': 54, 'gust': 3}, 'visibility': 10000, 'pop': 0, 'sys': {'pod': 'n'}, 'dt_txt': '2025-05-31 21:00:00'}, {'dt': 1748736000, 'main': {'temp': 26.6, 'feels_like': 26.6, 'temp_min': 26.6, 'temp_max': 26.6, 'pressure': 1003, 'sea_level': 1003, 'grnd_level': 998, 'humidity': 79, 'temp_kf': 0}, 'weather': [{'id': 804, 'main': 'Clouds', 'description': 'overcast clouds', 'icon': '04d'}], 'clouds': {'all': 97}, 'wind': {'speed': 1.98, 'deg': 83, 'gust': 2.17}, 'visibility': 10000, 'pop': 0, 'sys': {'pod': 'd'}, 'dt_txt': '2025-06-01 00:00:00'}, {'dt': 1748746800, 'main': {'temp': 28.87, 'feels_like': 32.81, 'temp_min': 28.87, 'temp_max': 28.87, 'pressure': 1003, 'sea_level': 1003, 'grnd_level': 998, 'humidity': 72, 'temp_kf': 0}, 'weather': [{'id': 804, 'main': 'Clouds', 'description': 'overcast clouds', 'icon': '04d'}], 'clouds': {'all': 90}, 'wind': {'speed': 2.74, 'deg': 204, 'gust': 1.87}, 'visibility': 10000, 'pop': 0, 'sys': {'pod': 'd'}, 'dt_txt': '2025-06-01 03:00:00'}, {'dt': 1748757600, 'main': {'temp': 29.27, 'feels_like': 33.94, 'temp_min': 29.27, 'temp_max': 29.27, 'pressure': 1001, 'sea_level': 1001, 'grnd_level': 996, 'humidity': 73, 'temp_kf': 0}, 'weather': [{'id': 804, 'main': 'Clouds', 'description': 'overcast clouds', 'icon': '04d'}], 'clouds': {'all': 95}, 'wind': {'speed': 3.97, 'deg': 184, 'gust': 2.77}, 'visibility': 10000, 'pop': 0, 'sys': {'pod': 'd'}, 'dt_txt': '2025-06-01 06:00:00'}, {'dt': 1748768400, 'main': {'temp': 29.2, 'feels_like': 34.41, 'temp_min': 29.2, 'temp_max': 29.2, 'pressure': 1000, 'sea_level': 1000, 'grnd_level': 995, 'humidity': 76, 'temp_kf': 0}, 'weather': [{'id': 804, 'main': 'Clouds', 'description': 'overcast clouds', 'icon': '04d'}], 'clouds': {'all': 100}, 'wind': {'speed': 4.68, 'deg': 165, 'gust': 4.08}, 'visibility': 10000, 'pop': 0, 'sys': {'pod': 'd'}, 'dt_txt': '2025-06-01 09:00:00'}], 'city': {'id': 1819729, 'name': 'Tin Shui Wai', 'coord': {'lat': 22.4569, 'lon': 114.0013}, 'country': 'CN', 'population': 7012738, 'timezone': 28800, 'sunrise': 1748295620, 'sunset': 1748343735}}\n"
     ]
    }
   ],
   "source": [
    "forecast_url = f'http://api.openweathermap.org/data/2.5/forecast?q={city}&appid={API_KEY}&units=metric'\n",
    "\n",
    "forecast_response = requests.get(forecast_url)\n",
    "forecast_data = forecast_response.json()\n",
    "print(forecast_data)"
   ]
  },
  {
   "cell_type": "code",
   "execution_count": null,
   "id": "5110d8cc",
   "metadata": {},
   "outputs": [
    {
     "name": "stdout",
     "output_type": "stream",
     "text": [
      "[{'datetime': '2025-05-27 12:00:00', 'time': '12:00', 'date': '2025-05-27', 'temperature': 26.8, 'weather_main': 'Clouds', 'description': 'Scattered clouds'}, {'datetime': '2025-05-27 15:00:00', 'time': '15:00', 'date': '2025-05-27', 'temperature': 26.5, 'weather_main': 'Clouds', 'description': 'Broken clouds'}, {'datetime': '2025-05-27 18:00:00', 'time': '18:00', 'date': '2025-05-27', 'temperature': 26.1, 'weather_main': 'Clouds', 'description': 'Broken clouds'}, {'datetime': '2025-05-27 21:00:00', 'time': '21:00', 'date': '2025-05-27', 'temperature': 25.9, 'weather_main': 'Clouds', 'description': 'Overcast clouds'}, {'datetime': '2025-05-28 00:00:00', 'time': '00:00', 'date': '2025-05-28', 'temperature': 27.1, 'weather_main': 'Clouds', 'description': 'Overcast clouds'}, {'datetime': '2025-05-28 03:00:00', 'time': '03:00', 'date': '2025-05-28', 'temperature': 26.7, 'weather_main': 'Rain', 'description': 'Light rain'}, {'datetime': '2025-05-28 06:00:00', 'time': '06:00', 'date': '2025-05-28', 'temperature': 25.8, 'weather_main': 'Rain', 'description': 'Light rain'}, {'datetime': '2025-05-28 09:00:00', 'time': '09:00', 'date': '2025-05-28', 'temperature': 25.0, 'weather_main': 'Rain', 'description': 'Light rain'}, {'datetime': '2025-05-28 12:00:00', 'time': '12:00', 'date': '2025-05-28', 'temperature': 25.5, 'weather_main': 'Rain', 'description': 'Light rain'}, {'datetime': '2025-05-28 15:00:00', 'time': '15:00', 'date': '2025-05-28', 'temperature': 25.8, 'weather_main': 'Rain', 'description': 'Light rain'}, {'datetime': '2025-05-28 18:00:00', 'time': '18:00', 'date': '2025-05-28', 'temperature': 25.1, 'weather_main': 'Rain', 'description': 'Moderate rain'}, {'datetime': '2025-05-28 21:00:00', 'time': '21:00', 'date': '2025-05-28', 'temperature': 25.1, 'weather_main': 'Rain', 'description': 'Light rain'}, {'datetime': '2025-05-29 00:00:00', 'time': '00:00', 'date': '2025-05-29', 'temperature': 26.0, 'weather_main': 'Rain', 'description': 'Light rain'}, {'datetime': '2025-05-29 03:00:00', 'time': '03:00', 'date': '2025-05-29', 'temperature': 27.0, 'weather_main': 'Rain', 'description': 'Light rain'}, {'datetime': '2025-05-29 06:00:00', 'time': '06:00', 'date': '2025-05-29', 'temperature': 26.9, 'weather_main': 'Rain', 'description': 'Light rain'}, {'datetime': '2025-05-29 09:00:00', 'time': '09:00', 'date': '2025-05-29', 'temperature': 24.1, 'weather_main': 'Rain', 'description': 'Light rain'}, {'datetime': '2025-05-29 12:00:00', 'time': '12:00', 'date': '2025-05-29', 'temperature': 22.6, 'weather_main': 'Rain', 'description': 'Light rain'}, {'datetime': '2025-05-29 15:00:00', 'time': '15:00', 'date': '2025-05-29', 'temperature': 23.0, 'weather_main': 'Rain', 'description': 'Light rain'}, {'datetime': '2025-05-29 18:00:00', 'time': '18:00', 'date': '2025-05-29', 'temperature': 23.2, 'weather_main': 'Clouds', 'description': 'Overcast clouds'}, {'datetime': '2025-05-29 21:00:00', 'time': '21:00', 'date': '2025-05-29', 'temperature': 23.4, 'weather_main': 'Clouds', 'description': 'Overcast clouds'}, {'datetime': '2025-05-30 00:00:00', 'time': '00:00', 'date': '2025-05-30', 'temperature': 24.3, 'weather_main': 'Clouds', 'description': 'Overcast clouds'}, {'datetime': '2025-05-30 03:00:00', 'time': '03:00', 'date': '2025-05-30', 'temperature': 26.8, 'weather_main': 'Clouds', 'description': 'Broken clouds'}, {'datetime': '2025-05-30 06:00:00', 'time': '06:00', 'date': '2025-05-30', 'temperature': 26.1, 'weather_main': 'Clouds', 'description': 'Overcast clouds'}, {'datetime': '2025-05-30 09:00:00', 'time': '09:00', 'date': '2025-05-30', 'temperature': 25.9, 'weather_main': 'Clouds', 'description': 'Overcast clouds'}, {'datetime': '2025-05-30 12:00:00', 'time': '12:00', 'date': '2025-05-30', 'temperature': 25.3, 'weather_main': 'Clouds', 'description': 'Overcast clouds'}, {'datetime': '2025-05-30 15:00:00', 'time': '15:00', 'date': '2025-05-30', 'temperature': 25.0, 'weather_main': 'Rain', 'description': 'Light rain'}, {'datetime': '2025-05-30 18:00:00', 'time': '18:00', 'date': '2025-05-30', 'temperature': 24.9, 'weather_main': 'Clouds', 'description': 'Overcast clouds'}, {'datetime': '2025-05-30 21:00:00', 'time': '21:00', 'date': '2025-05-30', 'temperature': 24.5, 'weather_main': 'Clouds', 'description': 'Overcast clouds'}, {'datetime': '2025-05-31 00:00:00', 'time': '00:00', 'date': '2025-05-31', 'temperature': 24.9, 'weather_main': 'Clouds', 'description': 'Overcast clouds'}, {'datetime': '2025-05-31 03:00:00', 'time': '03:00', 'date': '2025-05-31', 'temperature': 27.2, 'weather_main': 'Clouds', 'description': 'Overcast clouds'}, {'datetime': '2025-05-31 06:00:00', 'time': '06:00', 'date': '2025-05-31', 'temperature': 27.3, 'weather_main': 'Clouds', 'description': 'Overcast clouds'}, {'datetime': '2025-05-31 09:00:00', 'time': '09:00', 'date': '2025-05-31', 'temperature': 26.5, 'weather_main': 'Clouds', 'description': 'Overcast clouds'}, {'datetime': '2025-05-31 12:00:00', 'time': '12:00', 'date': '2025-05-31', 'temperature': 25.7, 'weather_main': 'Clouds', 'description': 'Overcast clouds'}, {'datetime': '2025-05-31 15:00:00', 'time': '15:00', 'date': '2025-05-31', 'temperature': 25.2, 'weather_main': 'Clouds', 'description': 'Overcast clouds'}, {'datetime': '2025-05-31 18:00:00', 'time': '18:00', 'date': '2025-05-31', 'temperature': 25.3, 'weather_main': 'Clouds', 'description': 'Overcast clouds'}, {'datetime': '2025-05-31 21:00:00', 'time': '21:00', 'date': '2025-05-31', 'temperature': 25.1, 'weather_main': 'Clouds', 'description': 'Overcast clouds'}, {'datetime': '2025-06-01 00:00:00', 'time': '00:00', 'date': '2025-06-01', 'temperature': 26.6, 'weather_main': 'Clouds', 'description': 'Overcast clouds'}, {'datetime': '2025-06-01 03:00:00', 'time': '03:00', 'date': '2025-06-01', 'temperature': 28.9, 'weather_main': 'Clouds', 'description': 'Overcast clouds'}, {'datetime': '2025-06-01 06:00:00', 'time': '06:00', 'date': '2025-06-01', 'temperature': 29.3, 'weather_main': 'Clouds', 'description': 'Overcast clouds'}, {'datetime': '2025-06-01 09:00:00', 'time': '09:00', 'date': '2025-06-01', 'temperature': 29.2, 'weather_main': 'Clouds', 'description': 'Overcast clouds'}]\n"
     ]
    }
   ],
   "source": []
  }
 ],
 "metadata": {
  "kernelspec": {
   "display_name": "Python 3",
   "language": "python",
   "name": "python3"
  },
  "language_info": {
   "codemirror_mode": {
    "name": "ipython",
    "version": 3
   },
   "file_extension": ".py",
   "mimetype": "text/x-python",
   "name": "python",
   "nbconvert_exporter": "python",
   "pygments_lexer": "ipython3",
   "version": "3.11.2"
  }
 },
 "nbformat": 4,
 "nbformat_minor": 5
}
